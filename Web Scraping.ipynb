{
 "cells": [
  {
   "cell_type": "code",
   "execution_count": 1,
   "id": "90a2e172",
   "metadata": {},
   "outputs": [],
   "source": [
    "import requests\n",
    "from bs4 import BeautifulSoup"
   ]
  },
  {
   "cell_type": "code",
   "execution_count": 2,
   "id": "44072ae4",
   "metadata": {},
   "outputs": [],
   "source": [
    "url='https://www.airlinequality.com/airline-reviews/british-airways'"
   ]
  },
  {
   "cell_type": "code",
   "execution_count": 3,
   "id": "94532c6b",
   "metadata": {},
   "outputs": [],
   "source": [
    "r=requests.get(url)\n",
    "con=BeautifulSoup(r.content,'html.parser')"
   ]
  },
  {
   "cell_type": "code",
   "execution_count": 4,
   "id": "fe20f316",
   "metadata": {},
   "outputs": [],
   "source": [
    "d1={}\n",
    "d1.update({\"Name\": con.h3.find('span', itemprop='name').text.strip()})\n",
    "d1.update({\"Country\": con.h3.contents[2].strip()})\n",
    "d1.update({\"Date\": con.h3.find('time', itemprop='datePublished')['datetime']})\n",
    "raw_review=con.find('div',itemprop=\"reviewBody\").text.strip()\n",
    "d1.update({\"Review\":raw_review.split('|')[1].strip()})\n"
   ]
  },
  {
   "cell_type": "code",
   "execution_count": 5,
   "id": "478ed954",
   "metadata": {},
   "outputs": [
    {
     "name": "stdout",
     "output_type": "stream",
     "text": [
      "Aircraft: 777-300 and A320\n",
      "Seat Type: First Class\n",
      "Route: Dallas to Dubrovnik via Heathrow\n",
      "Date Flown: September 2023\n",
      "Recommended: no\n"
     ]
    }
   ],
   "source": [
    "review_info={}\n",
    "fields=['Aircraft',\n",
    "'Seat Type',\n",
    "'Route',\n",
    "'Date Flown',\n",
    "'Recommended']\n",
    "\n",
    "for field in fields:\n",
    "    element = con.find('td', class_='review-rating-header', string=field)\n",
    "    if element:\n",
    "        value = element.find_next('td', class_='review-value').text.strip()\n",
    "        review_info[field] = value\n",
    "        \n",
    "for field, value in review_info.items():\n",
    "    print(f\"{field}: {value}\")"
   ]
  },
  {
   "cell_type": "code",
   "execution_count": 6,
   "id": "2fec4957",
   "metadata": {
    "scrolled": true
   },
   "outputs": [
    {
     "name": "stdout",
     "output_type": "stream",
     "text": [
      "Seat Comfort: 3\n",
      "Cabin Staff Service: 4\n",
      "Food & Beverages: 3\n",
      "Inflight Entertainment: 3\n",
      "Ground Service: 3\n",
      "Value For Money: 2\n"
     ]
    }
   ],
   "source": [
    "star_ratings={}\n",
    "fields1 = ['Seat Comfort', 'Cabin Staff Service', 'Food & Beverages', 'Inflight Entertainment', 'Ground Service', 'Value For Money']\n",
    "\n",
    "# Loop through the fields and count the filled stars\n",
    "for field in fields1:\n",
    "    element = con.find('td', class_='review-rating-header', string=field)\n",
    "    if element:\n",
    "        stars_element = element.find_next('td', class_='review-rating-stars')\n",
    "        filled_stars = len(stars_element.find_all('span', class_='star fill'))\n",
    "        star_ratings[field] = filled_stars\n",
    "\n",
    "# Print the star ratings\n",
    "for field, rating in star_ratings.items():\n",
    "    print(f\"{field}: {rating}\")\n"
   ]
  },
  {
   "cell_type": "code",
   "execution_count": 7,
   "id": "fc04844c",
   "metadata": {},
   "outputs": [],
   "source": [
    "reviews={}\n",
    "reviews={**d1,**review_info,**star_ratings}"
   ]
  },
  {
   "cell_type": "code",
   "execution_count": 8,
   "id": "d143a9d5",
   "metadata": {},
   "outputs": [],
   "source": [
    "import requests\n",
    "from bs4 import BeautifulSoup\n",
    "reviewdata={}\n",
    "review=[]"
   ]
  },
  {
   "cell_type": "markdown",
   "id": "0a705ed9",
   "metadata": {},
   "source": [
    "#### Extracting the Name,Country and Date of Review and Review of the Passenger"
   ]
  },
  {
   "cell_type": "code",
   "execution_count": null,
   "id": "610f4e89",
   "metadata": {
    "scrolled": false
   },
   "outputs": [],
   "source": [
    "\n",
    "for i in range(1,365):\n",
    "\turl = f\"https://www.airlinequality.com/airline-reviews/british-airways/page/{i}/\"\n",
    "\tr=requests.get(url)\n",
    "\tcon=BeautifulSoup(r.content,'html.parser')\n",
    "\tx= con.body.find_all('article',itemprop='review')\n",
    "\tfor tag in x:\n",
    "\t\td1={}\n",
    "\t\td1.update({\"Name\": tag.h3.find('span', itemprop='name').text.strip()})\n",
    "\t\td1.update({\"Country\": tag.h3.contents[2].strip()})\n",
    "\t\td1.update({\"Date\": tag.h3.find('time', itemprop='datePublished')['datetime']})\n",
    "\t\traw_review=tag.find('div',itemprop=\"reviewBody\").text.strip()\n",
    "\t\treview_parts = raw_review.split('|')\n",
    "\t\tif len(review_parts) > 1:\n",
    "\t\t\td1.update({\"Review\": review_parts[1].strip()})\n",
    "\t\telse:\n",
    "\t\t\td1.update({\"Review\":review_parts[0].strip()})\n",
    "    \n",
    "\t\treview_info={}\n",
    "\t\tfields=['Aircraft',\n",
    "\t\t'Seat Type',\n",
    "\t\t'Route',\n",
    "\t\t'Date Flown',\n",
    "\t\t'Recommended']\n",
    "\n",
    "\t\tfor field in fields:\n",
    "\t\t\telement = tag.find('td', class_='review-rating-header', string=field)\n",
    "\t\t\tif element:\n",
    "\t\t\t\tvalue = element.find_next('td', class_='review-value').text.strip()\n",
    "\t\t\t\treview_info[field] = value\n",
    "    \n",
    "\t\tstar_ratings={}\n",
    "\t\tfields1 = ['Seat Comfort', 'Cabin Staff Service', 'Food & Beverages', 'Inflight Entertainment', 'Ground Service', 'Value For Money']\n",
    "\n",
    "\t\t# Loop through the fields and count the filled stars\n",
    "\t\tfor field in fields1:\n",
    "\t\t\telement = tag.find('td', class_='review-rating-header', string=field)\n",
    "\t\t\tif element:\n",
    "\t\t\t\tstars_element = element.find_next('td', class_='review-rating-stars')\n",
    "\t\t\t\tfilled_stars = len(stars_element.find_all('span', class_='star fill'))\n",
    "\t\t\t\tstar_ratings[field] = filled_stars\n",
    "                \n",
    "\t\treview_data={**d1,**review_info,**star_ratings}\n",
    "\t\treview.append(review_data)"
   ]
  },
  {
   "cell_type": "code",
   "execution_count": null,
   "id": "1cd02e86",
   "metadata": {
    "scrolled": true
   },
   "outputs": [],
   "source": [
    "import pandas as pd\n",
    "df=pd.DataFrame(review,index=range(len(review)))"
   ]
  },
  {
   "cell_type": "code",
   "execution_count": null,
   "id": "22707329",
   "metadata": {
    "scrolled": true
   },
   "outputs": [],
   "source": [
    "df"
   ]
  },
  {
   "cell_type": "code",
   "execution_count": null,
   "id": "11ededa8",
   "metadata": {},
   "outputs": [],
   "source": [
    "df.to_csv(\"Passenger_Reviews.csv\")"
   ]
  },
  {
   "cell_type": "code",
   "execution_count": null,
   "id": "965570d6",
   "metadata": {},
   "outputs": [],
   "source": []
  }
 ],
 "metadata": {
  "kernelspec": {
   "display_name": "Python 3 (ipykernel)",
   "language": "python",
   "name": "python3"
  },
  "language_info": {
   "codemirror_mode": {
    "name": "ipython",
    "version": 3
   },
   "file_extension": ".py",
   "mimetype": "text/x-python",
   "name": "python",
   "nbconvert_exporter": "python",
   "pygments_lexer": "ipython3",
   "version": "3.11.4"
  }
 },
 "nbformat": 4,
 "nbformat_minor": 5
}
